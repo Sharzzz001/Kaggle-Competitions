{
 "cells": [
  {
   "cell_type": "code",
   "execution_count": 3,
   "metadata": {},
   "outputs": [],
   "source": [
    "# Common\n",
    "import os\n",
    "import keras\n",
    "import numpy as np\n",
    "import pandas as pd\n",
    "import tensorflow as tf\n",
    "from IPython.display import clear_output as cls\n",
    "\n",
    "# Data \n",
    "from tensorflow import io\n",
    "import tensorflow.data as tfd\n",
    "import tensorflow.image as tfi\n",
    "from keras.preprocessing.image import ImageDataGenerator\n",
    "\n",
    "# Data Visualization\n",
    "import plotly.express as px\n",
    "import matplotlib.pyplot as plt\n",
    "\n",
    "# Model\n",
    "import tensorflow_hub as hub\n",
    "from keras.layers import Dense\n",
    "from keras.models import Sequential\n",
    "from keras.optimizers import SGD\n",
    "from keras.optimizers.schedules.learning_rate_schedule import PiecewiseConstantDecay\n",
    "\n",
    "# Model Compiling\n",
    "from keras.metrics import SparseCategoricalAccuracy, SparseTopKCategoricalAccuracy\n",
    "\n",
    "# Callbacks \n",
    "from keras.callbacks import EarlyStopping, ModelCheckpoint"
   ]
  },
  {
   "cell_type": "code",
   "execution_count": 4,
   "metadata": {},
   "outputs": [],
   "source": [
    "PATCH_SIZE = 4    # 2 x 2\n",
    "IMAGE_SIZE = 256  # The sizes reduced because of memory constraints.\n",
    "N_CHANNELS = 3\n",
    "BATCH_SIZE = 128  # Depending on the resource\n",
    "AUTO = tfd.AUTOTUNE \n",
    "EXP_FACTOR = 2    # Expanding Factor"
   ]
  },
  {
   "cell_type": "code",
   "execution_count": 5,
   "metadata": {},
   "outputs": [],
   "source": [
    "def decode_image(image):\n",
    "    \n",
    "    image = tfi.decode_jpeg(image, channels=3)\n",
    "    # Here you can apply augmentation\n",
    "    image = tfi.resize(image, (IMAGE_SIZE, IMAGE_SIZE))\n",
    "    image = tf.cast(image, tf.float32)/255.\n",
    "    \n",
    "    return image\n",
    "\n",
    "def ProcessData(example):\n",
    "\n",
    "    truth = {\n",
    "        \"label\" : io.FixedLenFeature([], tf.int64),\n",
    "        \"image\" : io.FixedLenFeature([], tf.string),\n",
    "    }\n",
    "    \n",
    "    example = io.parse_single_example(example, truth)\n",
    "    \n",
    "    image, label = example['image'], example['label']\n",
    "    \n",
    "    image = decode_image(image)\n",
    "    \n",
    "    return image, label"
   ]
  },
  {
   "cell_type": "code",
   "execution_count": 6,
   "metadata": {},
   "outputs": [],
   "source": [
    "def show_image(image, title=None, show=False):\n",
    "    plt.imshow(image)\n",
    "    plt.axis('off')\n",
    "    plt.title(title)\n",
    "    if show:\n",
    "        plt.show()\n",
    "\n",
    "def show_images(data, class_names, model=None, GRID=[5,6], SIZE=(30,25)):\n",
    "\n",
    "    # Configuration\n",
    "    n_rows, n_cols = GRID\n",
    "    n_images = n_rows * n_cols\n",
    "    plt.figure(figsize=SIZE)\n",
    "\n",
    "    # Iterate through the Data\n",
    "    i = 1\n",
    "    for images, labels in iter(data):\n",
    "        \n",
    "        # Select Image and label randomly\n",
    "        id = np.random.randint(len(images))\n",
    "        image, label = tf.expand_dims(images[id], axis=0), class_names[int(labels[id])]\n",
    "\n",
    "        # Make prediction\n",
    "        if model is not None:\n",
    "            prediction = model.predict(image)[0]\n",
    "            score = np.round(max(prediction), 2)\n",
    "            pred = class_names[np.argmax(prediction)]\n",
    "            title = f\"True : {label}\\nPred : {pred}\\nScore : {score}\"\n",
    "        else:\n",
    "            title = f\"{label}\"\n",
    "        \n",
    "        # Plot Image\n",
    "        plt.subplot(n_rows, n_cols, i)\n",
    "        show_image(image[0], title=title, show=False)\n",
    "\n",
    "        # Clear Unnecessary text\n",
    "        cls()\n",
    "\n",
    "        # Once done break loop\n",
    "        i+=1\n",
    "        if i>n_images:\n",
    "            break\n",
    "    \n",
    "    # Show Final Plot\n",
    "    plt.show()"
   ]
  },
  {
   "cell_type": "code",
   "execution_count": 7,
   "metadata": {},
   "outputs": [],
   "source": [
    "# Specify Main Paths\n",
    "train_path = './Animal-Data-V2/Data-V2/Training Data'\n",
    "tfr_train_path = './Animal-Data-V2/Data-V2/TFRecords/Training'\n",
    "\n",
    "valid_path = './Animal-Data-V2/Data-V2/Validation Data'\n",
    "tfr_valid_path = './Animal-Data-V2/Data-V2/TFRecords/Validation'\n",
    "\n",
    "test_path = './Animal-Data-V2/Data-V2/Testing Data'\n",
    "tfr_test_path = './Animal-Data-V2/Data-V2/TFRecords/Testing'"
   ]
  },
  {
   "cell_type": "code",
   "execution_count": null,
   "metadata": {},
   "outputs": [],
   "source": []
  }
 ],
 "metadata": {
  "kernelspec": {
   "display_name": "Python 3",
   "language": "python",
   "name": "python3"
  },
  "language_info": {
   "codemirror_mode": {
    "name": "ipython",
    "version": 3
   },
   "file_extension": ".py",
   "mimetype": "text/x-python",
   "name": "python",
   "nbconvert_exporter": "python",
   "pygments_lexer": "ipython3",
   "version": "3.10.8"
  },
  "orig_nbformat": 4,
  "vscode": {
   "interpreter": {
    "hash": "4d536800d27c51602b26d7e23a7b347bd37d1d65ee7fdd104b4efc2c92c4d087"
   }
  }
 },
 "nbformat": 4,
 "nbformat_minor": 2
}
