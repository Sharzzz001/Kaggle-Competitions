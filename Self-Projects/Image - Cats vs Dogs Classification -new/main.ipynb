{
 "cells": [
  {
   "cell_type": "code",
   "execution_count": 1,
   "metadata": {},
   "outputs": [],
   "source": [
    "import pandas as pd\n",
    "import numpy as np\n",
    "import os\n",
    "import shutil"
   ]
  },
  {
   "cell_type": "code",
   "execution_count": 5,
   "metadata": {},
   "outputs": [
    {
     "data": {
      "text/plain": [
       "(12501, 12501)"
      ]
     },
     "execution_count": 5,
     "metadata": {},
     "output_type": "execute_result"
    }
   ],
   "source": [
    "dogs_count = len(os.listdir(\"PetImages/Dog/\"))\n",
    "cats_count = len(os.listdir(\"PetImages/Cat/\"))\n",
    "\n",
    "dogs_count,cats_count"
   ]
  },
  {
   "cell_type": "code",
   "execution_count": 6,
   "metadata": {},
   "outputs": [
    {
     "data": {
      "text/plain": [
       "array(['Cat', 'Dog'], dtype='<U3')"
      ]
     },
     "execution_count": 6,
     "metadata": {},
     "output_type": "execute_result"
    }
   ],
   "source": [
    "import pathlib\n",
    "data_directory = pathlib.Path(\"PetImages\")\n",
    "class_names = np.array(sorted([item.name for item in data_directory.glob('*')]))\n",
    "class_names"
   ]
  },
  {
   "cell_type": "code",
   "execution_count": 6,
   "metadata": {},
   "outputs": [
    {
     "name": "stdout",
     "output_type": "stream",
     "text": [
      "train and test dir done\n",
      "Cats and Dogs for train done\n",
      "cats and dogs for test done\n"
     ]
    }
   ],
   "source": [
    "root = \"C:\\Sharan\\College\\Kaggle Competitions\\Self-Projects\\Image - Cats vs Dogs Classification -new\\Data\"\n",
    "if os.path.exists(root):\n",
    "    shutil.rmtree(root)\n",
    "\n",
    "def create_directories(root_path):\n",
    "    os.mkdir(root_path)\n",
    "    train_dir = os.path.join(root_path,\"train\")\n",
    "    os.mkdir(train_dir)\n",
    "    test_dir = os.path.join(root_path,\"test\")\n",
    "    os.mkdir(test_dir)\n",
    "    print(\"train and test dir done\")\n",
    "    cats_train_dir = os.path.join(train_dir, \"cats\")\n",
    "    os.mkdir(cats_train_dir)\n",
    "    dogs_train_dir = os.path.join(train_dir,\"dogs\")\n",
    "    os.mkdir(dogs_train_dir)\n",
    "    print(\"Cats and Dogs for train done\")\n",
    "    cats_test_dir = os.path.join(test_dir, \"cats\")\n",
    "    os.mkdir(cats_test_dir)\n",
    "    dogs_test_dir = os.path.join(test_dir,\"dogs\")\n",
    "    os.mkdir(dogs_test_dir)\n",
    "    print(\"cats and dogs for test done\")\n",
    "try:\n",
    "    create_directories(root_path=root)\n",
    "except OSError:\n",
    "    print(\"File already exists\")"
   ]
  }
 ],
 "metadata": {
  "kernelspec": {
   "display_name": "Python 3",
   "language": "python",
   "name": "python3"
  },
  "language_info": {
   "codemirror_mode": {
    "name": "ipython",
    "version": 3
   },
   "file_extension": ".py",
   "mimetype": "text/x-python",
   "name": "python",
   "nbconvert_exporter": "python",
   "pygments_lexer": "ipython3",
   "version": "3.10.8"
  },
  "orig_nbformat": 4,
  "vscode": {
   "interpreter": {
    "hash": "4d536800d27c51602b26d7e23a7b347bd37d1d65ee7fdd104b4efc2c92c4d087"
   }
  }
 },
 "nbformat": 4,
 "nbformat_minor": 2
}
